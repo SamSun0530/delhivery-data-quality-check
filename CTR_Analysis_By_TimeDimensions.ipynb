{
 "cells": [
  {
   "cell_type": "code",
   "execution_count": null,
   "id": "6c0c8976",
   "metadata": {},
   "outputs": [],
   "source": [
    "\n",
    "# Load libraries\n",
    "import pandas as pd\n",
    "import numpy as np\n",
    "import matplotlib.pyplot as plt\n",
    "import seaborn as sns\n",
    "from sklearn.model_selection import train_test_split\n",
    "from sklearn.ensemble import RandomForestClassifier\n",
    "from sklearn.inspection import permutation_importance\n"
   ]
  },
  {
   "cell_type": "code",
   "execution_count": null,
   "id": "70f55004",
   "metadata": {},
   "outputs": [],
   "source": [
    "\n",
    "# Load your dataset (adjust path if needed)\n",
    "data1 = pd.read_csv('purchase_data.csv')\n",
    "data2 = pd.read_csv('promotion_data.csv')\n",
    "data = pd.merge(data1, data2, left_index=True, right_index=True, how='inner')\n"
   ]
  },
  {
   "cell_type": "code",
   "execution_count": null,
   "id": "e651ff25",
   "metadata": {},
   "outputs": [],
   "source": [
    "\n",
    "# Convert timestamps to datetime\n",
    "data['timestamp'] = pd.to_datetime(data['timestamp'])  # purchase time\n",
    "data['promotion_timestamp'] = pd.to_datetime(data['promotion_timestamp'])  # promotion time\n",
    "\n",
    "# Calculate time delay in hours between promotion and purchase\n",
    "data['promotion_diff_hours'] = (data['promotion_timestamp'] - data['timestamp']).dt.total_seconds() / 3600\n"
   ]
  },
  {
   "cell_type": "code",
   "execution_count": null,
   "id": "1e80df9e",
   "metadata": {},
   "outputs": [],
   "source": [
    "\n",
    "# Compute Click-Through Rate (CTR)\n",
    "data['CTR'] = data['clicks'] / data['impressions']\n"
   ]
  },
  {
   "cell_type": "code",
   "execution_count": null,
   "id": "e2909448",
   "metadata": {},
   "outputs": [],
   "source": [
    "\n",
    "# CTR vs. Time Delay Between Promotion and Purchase\n",
    "plt.figure(figsize=(10, 6))\n",
    "sns.lineplot(x='promotion_diff_hours', y='CTR', data=data)\n",
    "plt.title('CTR vs. Time Delay Between Promotion and Purchase')\n",
    "plt.xlabel('Delay (hours)')\n",
    "plt.ylabel('Click-Through Rate')\n",
    "plt.grid(True)\n",
    "plt.show()\n"
   ]
  },
  {
   "cell_type": "code",
   "execution_count": null,
   "id": "74d732da",
   "metadata": {},
   "outputs": [],
   "source": [
    "\n",
    "# CTR vs. Promotion Hour\n",
    "data['promotion_hour'] = data['promotion_timestamp'].dt.hour\n",
    "hour_ctr = data.groupby('promotion_hour')['CTR'].mean()\n",
    "\n",
    "plt.figure(figsize=(10, 6))\n",
    "sns.barplot(x=hour_ctr.index, y=hour_ctr.values)\n",
    "plt.title('CTR by Promotion Hour')\n",
    "plt.xlabel('Hour of Day')\n",
    "plt.ylabel('Average CTR')\n",
    "plt.grid(True)\n",
    "plt.show()\n"
   ]
  },
  {
   "cell_type": "code",
   "execution_count": null,
   "id": "ea6d5f2d",
   "metadata": {},
   "outputs": [],
   "source": [
    "\n",
    "# CTR vs. Day of Week\n",
    "data['promotion_day'] = data['promotion_timestamp'].dt.day_name()\n",
    "day_ctr = data.groupby('promotion_day')['CTR'].mean().reindex(\n",
    "    ['Monday', 'Tuesday', 'Wednesday', 'Thursday', 'Friday', 'Saturday', 'Sunday']\n",
    ")\n",
    "\n",
    "plt.figure(figsize=(10, 6))\n",
    "sns.barplot(x=day_ctr.index, y=day_ctr.values)\n",
    "plt.title('CTR by Day of Week')\n",
    "plt.xlabel('Day')\n",
    "plt.ylabel('Average CTR')\n",
    "plt.xticks(rotation=45)\n",
    "plt.grid(True)\n",
    "plt.show()\n"
   ]
  },
  {
   "cell_type": "code",
   "execution_count": null,
   "id": "3e71a2e3",
   "metadata": {},
   "outputs": [],
   "source": [
    "\n",
    "# --- Customer Value vs Engagement Analysis ---\n",
    "# Determine if high-value purchases correlate with promotion responsiveness\n",
    "\n",
    "# Step 1: Create 'clicked' column to classify users\n",
    "data['clicked'] = data['clicks'] > 0\n",
    "\n",
    "# Step 2: KDE plot of purchase price for clicked vs not clicked users\n",
    "plt.figure(figsize=(10, 6))\n",
    "sns.kdeplot(data=data[data['clicked']], x='purchase_price', label='Clicked', fill=True)\n",
    "sns.kdeplot(data=data[~data['clicked']], x='purchase_price', label='Not Clicked', fill=True)\n",
    "plt.title('Purchase Price Distribution: Clicked vs. Not Clicked Users')\n",
    "plt.xlabel('Purchase Price')\n",
    "plt.ylabel('Density')\n",
    "plt.legend()\n",
    "plt.grid(True)\n",
    "plt.show()\n"
   ]
  },
  {
   "cell_type": "code",
   "execution_count": null,
   "id": "41565050",
   "metadata": {},
   "outputs": [],
   "source": [
    "\n",
    "# --- Temporal Heatmap of Engagement ---\n",
    "# Create a 2D heatmap of CTR by day of week and hour of day\n",
    "\n",
    "data['weekday'] = data['promotion_timestamp'].dt.day_name()\n",
    "data['hour'] = data['promotion_timestamp'].dt.hour\n",
    "\n",
    "heatmap_data = data.groupby(['weekday', 'hour'])['CTR'].mean().unstack()\n",
    "ordered_days = ['Monday', 'Tuesday', 'Wednesday', 'Thursday', 'Friday', 'Saturday', 'Sunday']\n",
    "heatmap_data = heatmap_data.reindex(ordered_days)\n",
    "\n",
    "plt.figure(figsize=(12, 6))\n",
    "sns.heatmap(heatmap_data, cmap='YlGnBu', annot=True, fmt=\".3f\", linewidths=0.5)\n",
    "plt.title('CTR Heatmap by Day of Week and Hour of Day')\n",
    "plt.xlabel('Hour of Day')\n",
    "plt.ylabel('Day of Week')\n",
    "plt.show()\n"
   ]
  },
  {
   "cell_type": "code",
   "execution_count": null,
   "id": "c526ba1e",
   "metadata": {},
   "outputs": [],
   "source": [
    "\n",
    "# --- Trend Analysis Over Time ---\n",
    "# Track purchases and CTR evolution week over week and month over month\n",
    "\n",
    "# Ensure timestamp is in datetime format\n",
    "data['timestamp'] = pd.to_datetime(data['timestamp'])\n",
    "\n",
    "# Create week and month columns\n",
    "data['week'] = data['timestamp'].dt.to_period('W').apply(lambda r: r.start_time)\n",
    "data['month'] = data['timestamp'].dt.to_period('M').apply(lambda r: r.start_time)\n",
    "\n",
    "# Group by week\n",
    "weekly_stats = data.groupby('week').agg(\n",
    "    total_purchases=('purchase_price', 'count'),\n",
    "    avg_ctr=('CTR', 'mean')\n",
    ").reset_index()\n",
    "\n",
    "# Group by month\n",
    "monthly_stats = data.groupby('month').agg(\n",
    "    total_purchases=('purchase_price', 'count'),\n",
    "    avg_ctr=('CTR', 'mean')\n",
    ").reset_index()\n",
    "\n",
    "# Plot weekly trends\n",
    "plt.figure(figsize=(12, 5))\n",
    "sns.lineplot(data=weekly_stats, x='week', y='total_purchases', label='Weekly Purchases')\n",
    "sns.lineplot(data=weekly_stats, x='week', y='avg_ctr', label='Weekly Avg CTR')\n",
    "plt.title('Weekly Trends: Purchases and CTR')\n",
    "plt.xlabel('Week')\n",
    "plt.ylabel('Count / CTR')\n",
    "plt.xticks(rotation=45)\n",
    "plt.grid(True)\n",
    "plt.legend()\n",
    "plt.tight_layout()\n",
    "plt.show()\n",
    "\n",
    "# Plot monthly trends\n",
    "plt.figure(figsize=(12, 5))\n",
    "sns.lineplot(data=monthly_stats, x='month', y='total_purchases', label='Monthly Purchases')\n",
    "sns.lineplot(data=monthly_stats, x='month', y='avg_ctr', label='Monthly Avg CTR')\n",
    "plt.title('Monthly Trends: Purchases and CTR')\n",
    "plt.xlabel('Month')\n",
    "plt.ylabel('Count / CTR')\n",
    "plt.xticks(rotation=45)\n",
    "plt.grid(True)\n",
    "plt.legend()\n",
    "plt.tight_layout()\n",
    "plt.show()\n"
   ]
  }
 ],
 "metadata": {
  "language_info": {
   "name": "python"
  }
 },
 "nbformat": 4,
 "nbformat_minor": 5
}
