{
 "cells": [
  {
   "cell_type": "code",
   "execution_count": 1,
   "id": "fef70fe5",
   "metadata": {},
   "outputs": [
    {
     "name": "stdout",
     "output_type": "stream",
     "text": [
      "There are 337 rows and 24 columns\n",
      "<class 'pandas.core.frame.DataFrame'>\n",
      "RangeIndex: 337 entries, 0 to 336\n",
      "Data columns (total 24 columns):\n",
      " #   Column                          Non-Null Count  Dtype  \n",
      "---  ------                          --------------  -----  \n",
      " 0   data                            337 non-null    object \n",
      " 1   trip_creation_time              337 non-null    object \n",
      " 2   route_schedule_uuid             337 non-null    object \n",
      " 3   route_type                      337 non-null    object \n",
      " 4   trip_uuid                       337 non-null    object \n",
      " 5   source_center                   337 non-null    object \n",
      " 6   source_name                     327 non-null    object \n",
      " 7   destination_center              337 non-null    object \n",
      " 8   destination_name                335 non-null    object \n",
      " 9   od_start_time                   337 non-null    object \n",
      " 10  od_end_time                     337 non-null    object \n",
      " 11  start_scan_to_end_scan          337 non-null    float64\n",
      " 12  is_cutoff                       337 non-null    bool   \n",
      " 13  cutoff_factor                   337 non-null    int64  \n",
      " 14  cutoff_timestamp                337 non-null    object \n",
      " 15  actual_distance_to_destination  337 non-null    float64\n",
      " 16  actual_time                     337 non-null    float64\n",
      " 17  osrm_time                       337 non-null    float64\n",
      " 18  osrm_distance                   337 non-null    float64\n",
      " 19  factor                          337 non-null    float64\n",
      " 20  segment_actual_time             337 non-null    float64\n",
      " 21  segment_osrm_time               337 non-null    float64\n",
      " 22  segment_osrm_distance           337 non-null    float64\n",
      " 23  segment_factor                  337 non-null    float64\n",
      "dtypes: bool(1), float64(10), int64(1), object(12)\n",
      "memory usage: 61.0+ KB\n",
      "None\n"
     ]
    }
   ],
   "source": [
    "import pandas as pd\n",
    "df = pd.read_csv('../data/delhivery_data.csv')\n",
    "print(f'There are {df.shape[0]} rows and {df.shape[1]} columns')\n",
    "print(df.info())"
   ]
  },
  {
   "cell_type": "code",
   "execution_count": 2,
   "id": "d1ab36fa",
   "metadata": {},
   "outputs": [
    {
     "name": "stdout",
     "output_type": "stream",
     "text": [
      "data: data type\n",
      "trip_creation_time: time a trip created\n",
      "route_schedule_uuid: uuid of a route schedule\n",
      "route_type: route type\n",
      "trip_uuid: uuid of trip\n",
      "source_center: source center\n",
      "source_name: source name\n",
      "destination_center: destination center\n",
      "destination_name: destination name\n",
      "od_start_time: od start time\n",
      "od_end_time: od end time\n",
      "start_scan_to_end_scan: start scan to end scan\n",
      "is_cutoff: is there a cutoff\n",
      "cutoff_factor: factor of cutoff\n",
      "cutoff_timestamp: date and time of cutoff\n",
      "actual_distance_to_destination: actual distance to destination\n",
      "actual_time: actual time\n",
      "osrm_time: osrm time\n",
      "osrm_distance: osrm distance\n",
      "factor: factor\n",
      "segment_actual_time: actual time of segment\n",
      "segment_osrm_time: osrm time of segment\n",
      "segment_osrm_distance: osrm distance of segment\n",
      "segment_factor: factor of segment\n"
     ]
    }
   ],
   "source": [
    "columns = df.columns\n",
    "descriptions = [\n",
    "    \"data type\",\n",
    "    \"time a trip created\",\n",
    "    \"uuid of a route schedule\",\n",
    "    \"route type\",\n",
    "    \"uuid of trip\",\n",
    "    \"source center\",\n",
    "    \"source name\",\n",
    "    \"destination center\",\n",
    "    \"destination name\",\n",
    "    \"od start time\",\n",
    "    \"od end time\",\n",
    "    \"start scan to end scan\",\n",
    "    \"is there a cutoff\",\n",
    "    \"factor of cutoff\",\n",
    "    \"date and time of cutoff\",\n",
    "    \"actual distance to destination\",\n",
    "    \"actual time\",\n",
    "    \"osrm time\",\n",
    "    \"osrm distance\",\n",
    "    \"factor\",\n",
    "    \"actual time of segment\",\n",
    "    \"osrm time of segment\",\n",
    "    \"osrm distance of segment\",\n",
    "    \"factor of segment\"\n",
    "]\n",
    "for i in range(columns.size):\n",
    "    print(f\"{columns[i]}: {descriptions[i]}\")"
   ]
  },
  {
   "cell_type": "code",
   "execution_count": null,
   "id": "b52a7e6b",
   "metadata": {},
   "outputs": [
    {
     "name": "stdout",
     "output_type": "stream",
     "text": [
      "data                               0\n",
      "trip_creation_time                 0\n",
      "route_schedule_uuid                0\n",
      "route_type                         0\n",
      "trip_uuid                          0\n",
      "source_center                      0\n",
      "source_name                       10\n",
      "destination_center                 0\n",
      "destination_name                   2\n",
      "od_start_time                      0\n",
      "od_end_time                        0\n",
      "start_scan_to_end_scan             0\n",
      "is_cutoff                          0\n",
      "cutoff_factor                      0\n",
      "cutoff_timestamp                   0\n",
      "actual_distance_to_destination     0\n",
      "actual_time                        0\n",
      "osrm_time                          0\n",
      "osrm_distance                      0\n",
      "factor                             0\n",
      "segment_actual_time                0\n",
      "segment_osrm_time                  0\n",
      "segment_osrm_distance              0\n",
      "segment_factor                     0\n",
      "dtype: int64\n"
     ]
    }
   ],
   "source": [
    "print(df.isnull().sum())\n",
    "## Not sure what pattern refers to"
   ]
  },
  {
   "cell_type": "code",
   "execution_count": 4,
   "id": "4cc2d9e8",
   "metadata": {},
   "outputs": [
    {
     "name": "stdout",
     "output_type": "stream",
     "text": [
      "data                               object\n",
      "trip_creation_time                 object\n",
      "route_schedule_uuid                object\n",
      "route_type                         object\n",
      "trip_uuid                          object\n",
      "source_center                      object\n",
      "source_name                        object\n",
      "destination_center                 object\n",
      "destination_name                   object\n",
      "od_start_time                      object\n",
      "od_end_time                        object\n",
      "start_scan_to_end_scan            float64\n",
      "is_cutoff                            bool\n",
      "cutoff_factor                       int64\n",
      "cutoff_timestamp                   object\n",
      "actual_distance_to_destination    float64\n",
      "actual_time                       float64\n",
      "osrm_time                         float64\n",
      "osrm_distance                     float64\n",
      "factor                            float64\n",
      "segment_actual_time               float64\n",
      "segment_osrm_time                 float64\n",
      "segment_osrm_distance             float64\n",
      "segment_factor                    float64\n",
      "dtype: object\n"
     ]
    }
   ],
   "source": [
    "print(df.dtypes)"
   ]
  },
  {
   "cell_type": "code",
   "execution_count": null,
   "id": "a06f87c1",
   "metadata": {},
   "outputs": [
    {
     "name": "stdout",
     "output_type": "stream",
     "text": [
      "Empty DataFrame\n",
      "Columns: [data, trip_creation_time, route_schedule_uuid, route_type, trip_uuid, source_center, source_name, destination_center, destination_name, od_start_time, od_end_time, start_scan_to_end_scan, is_cutoff, cutoff_factor, cutoff_timestamp, actual_distance_to_destination, actual_time, osrm_time, osrm_distance, factor, segment_actual_time, segment_osrm_time, segment_osrm_distance, segment_factor]\n",
      "Index: []\n",
      "\n",
      "[0 rows x 24 columns]\n"
     ]
    }
   ],
   "source": [
    "print(df[df['osrm_time'] < 0])\n",
    "## Am I supposed to filter datas by finding irrational values to identify inconsistencies? Here is one example but I do not know I am on the right track"
   ]
  },
  {
   "cell_type": "code",
   "execution_count": null,
   "id": "abd3c6df",
   "metadata": {},
   "outputs": [
    {
     "name": "stdout",
     "output_type": "stream",
     "text": [
      "Empty DataFrame\n",
      "Columns: [data, trip_creation_time, route_schedule_uuid, route_type, trip_uuid, source_center, source_name, destination_center, destination_name, od_start_time, od_end_time, start_scan_to_end_scan, is_cutoff, cutoff_factor, cutoff_timestamp, actual_distance_to_destination, actual_time, osrm_time, osrm_distance, factor, segment_actual_time, segment_osrm_time, segment_osrm_distance, segment_factor]\n",
      "Index: []\n",
      "\n",
      "[0 rows x 24 columns]\n"
     ]
    }
   ],
   "source": [
    "print(df[df.duplicated()])\n",
    "## There might be some errors in grammar since it returns empty frame even if I mannually set multiple duplicates"
   ]
  },
  {
   "cell_type": "code",
   "execution_count": null,
   "id": "3d2b5866",
   "metadata": {},
   "outputs": [
    {
     "name": "stdout",
     "output_type": "stream",
     "text": [
      "start_scan_to_end_scan: min=31.0, max=1032.0\n",
      "actual_distance_to_destination: min=9.05433021688315, max=442.0167037088669\n",
      "actual_time: min=9.0, max=824.0\n",
      "osrm_time: min=7.0, max=433.0\n",
      "osrm_distance: min=9.9365, max=544.8235\n",
      "factor: min=0.6428571428571429, max=7.3076923076923075\n",
      "segment_actual_time: min=0.0, max=431.0\n",
      "segment_osrm_time: min=0.0, max=81.0\n",
      "segment_osrm_distance: min=0.0, max=82.4127\n",
      "segment_factor: min=-1.0, max=16.576923076923077\n"
     ]
    }
   ],
   "source": [
    "for col in df.select_dtypes(include=['float64']).columns:\n",
    "    print(f\"{col}: min={df[col].min()}, max={df[col].max()}\")\n",
    "\n",
    "## I verify data ranges by set min and max but not sure how to find unusual values(outlier?)"
   ]
  }
 ],
 "metadata": {
  "kernelspec": {
   "display_name": "Python 3",
   "language": "python",
   "name": "python3"
  },
  "language_info": {
   "codemirror_mode": {
    "name": "ipython",
    "version": 3
   },
   "file_extension": ".py",
   "mimetype": "text/x-python",
   "name": "python",
   "nbconvert_exporter": "python",
   "pygments_lexer": "ipython3",
   "version": "3.13.3"
  }
 },
 "nbformat": 4,
 "nbformat_minor": 5
}
